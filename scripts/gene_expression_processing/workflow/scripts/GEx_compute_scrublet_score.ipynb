{
 "cells": [
  {
   "cell_type": "code",
   "execution_count": 18,
   "metadata": {
    "vscode": {
     "languageId": "shellscript"
    }
   },
   "outputs": [],
   "source": [
    "import scrublet as scr\n",
    "import scipy.io\n",
    "import matplotlib.pyplot as plt\n",
    "import numpy as np\n",
    "import os\n",
    "import pandas as pd\n",
    "import gzip\n",
    "import subprocess"
   ]
  },
  {
   "cell_type": "code",
   "execution_count": 10,
   "metadata": {
    "vscode": {
     "languageId": "shellscript"
    }
   },
   "outputs": [],
   "source": [
    "file_names = [\"sc_rep_mEB_series_GEx_repA_lane1\",\"sc_rep_mEB_series_mBC_pdT_repA_lane1\",\"sc_rep_mEB_series_oBC_CS1_repA_lane1\"]\n",
    "starting_dir = \"/home/maurertm/smontgom/maurertm/MPRA/scQers/scripts/gene_expression_processing/output/output_try1/\""
   ]
  },
  {
   "cell_type": "code",
   "execution_count": 2,
   "metadata": {
    "vscode": {
     "languageId": "shellscript"
    }
   },
   "outputs": [
    {
     "name": "stdout",
     "output_type": "stream",
     "text": [
      "\n"
     ]
    }
   ],
   "source": [
    "gunzip /home/maurertm/smontgom/maurertm/MPRA/scQers/scripts/gene_expression_processing/output/output_try1/sc_rep_mEB_series_GEx_repA_lane1/outs/filtered_feature_bc_matrix/features.tsv.gz"
   ]
  },
  {
   "cell_type": "code",
   "execution_count": 20,
   "metadata": {
    "vscode": {
     "languageId": "shellscript"
    }
   },
   "outputs": [
    {
     "name": "stdout",
     "output_type": "stream",
     "text": [
      "/home/maurertm/smontgom/maurertm/MPRA/scQers/scripts/gene_expression_processing/output/output_try1//sc_rep_mEB_series_GEx_repA_lane1/outs/filtered_feature_bc_matrix/barcodes.tsv.gz\n",
      "processing sc_rep_mEB_series_GEx_repA_lane1\n"
     ]
    },
    {
     "ename": "TypeError",
     "evalue": "bufsize must be an integer",
     "output_type": "error",
     "traceback": [
      "\u001b[0;31m---------------------------------------------------------------------------\u001b[0m",
      "\u001b[0;31mTypeError\u001b[0m                                 Traceback (most recent call last)",
      "Cell \u001b[0;32mIn[20], line 7\u001b[0m\n\u001b[1;32m      4\u001b[0m \u001b[38;5;28mprint\u001b[39m(\u001b[38;5;124m\"\u001b[39m\u001b[38;5;124mprocessing \u001b[39m\u001b[38;5;124m\"\u001b[39m\u001b[38;5;241m+\u001b[39mfile_name)\n\u001b[1;32m      5\u001b[0m dir_oi \u001b[38;5;241m=\u001b[39m starting_dir\u001b[38;5;241m+\u001b[39m\u001b[38;5;124m\"\u001b[39m\u001b[38;5;124m/\u001b[39m\u001b[38;5;124m\"\u001b[39m\u001b[38;5;241m+\u001b[39mfile_name\n\u001b[0;32m----> 7\u001b[0m \u001b[43msubprocess\u001b[49m\u001b[38;5;241;43m.\u001b[39;49m\u001b[43mcall\u001b[49m\u001b[43m(\u001b[49m\u001b[38;5;124;43m\"\u001b[39;49m\u001b[38;5;124;43mtar\u001b[39;49m\u001b[38;5;124;43m\"\u001b[39;49m\u001b[43m,\u001b[49m\u001b[43m \u001b[49m\u001b[38;5;124;43m\"\u001b[39;49m\u001b[38;5;124;43mxzf\u001b[39;49m\u001b[38;5;124;43m\"\u001b[39;49m\u001b[43m,\u001b[49m\u001b[43m \u001b[49m\u001b[43mdir_oi\u001b[49m\u001b[38;5;241;43m+\u001b[39;49m\u001b[38;5;124;43m\"\u001b[39;49m\u001b[38;5;124;43m/outs/filtered_feature_bc_matrix/features.tsv.gz\u001b[39;49m\u001b[38;5;124;43m\"\u001b[39;49m\u001b[43m)\u001b[49m\n\u001b[1;32m      9\u001b[0m cell_bc \u001b[38;5;241m=\u001b[39m pd\u001b[38;5;241m.\u001b[39mread_csv(dir_oi\u001b[38;5;241m+\u001b[39m\u001b[38;5;124m\"\u001b[39m\u001b[38;5;124m/outs/filtered_feature_bc_matrix/barcodes.tsv.gz\u001b[39m\u001b[38;5;124m\"\u001b[39m,header\u001b[38;5;241m=\u001b[39m\u001b[38;5;28;01mNone\u001b[39;00m)\n\u001b[1;32m     10\u001b[0m counts_matrix \u001b[38;5;241m=\u001b[39m scipy\u001b[38;5;241m.\u001b[39mio\u001b[38;5;241m.\u001b[39mmmread(dir_oi\u001b[38;5;241m+\u001b[39m\u001b[38;5;124m\"\u001b[39m\u001b[38;5;124m/outs/filtered_feature_bc_matrix/matrix.mtx.gz\u001b[39m\u001b[38;5;124m\"\u001b[39m)\n",
      "File \u001b[0;32m~/micromamba/envs/python_libs/lib/python3.12/subprocess.py:389\u001b[0m, in \u001b[0;36mcall\u001b[0;34m(timeout, *popenargs, **kwargs)\u001b[0m\n\u001b[1;32m    381\u001b[0m \u001b[38;5;28;01mdef\u001b[39;00m \u001b[38;5;21mcall\u001b[39m(\u001b[38;5;241m*\u001b[39mpopenargs, timeout\u001b[38;5;241m=\u001b[39m\u001b[38;5;28;01mNone\u001b[39;00m, \u001b[38;5;241m*\u001b[39m\u001b[38;5;241m*\u001b[39mkwargs):\n\u001b[1;32m    382\u001b[0m \u001b[38;5;250m    \u001b[39m\u001b[38;5;124;03m\"\"\"Run command with arguments.  Wait for command to complete or\u001b[39;00m\n\u001b[1;32m    383\u001b[0m \u001b[38;5;124;03m    timeout, then return the returncode attribute.\u001b[39;00m\n\u001b[1;32m    384\u001b[0m \n\u001b[0;32m   (...)\u001b[0m\n\u001b[1;32m    387\u001b[0m \u001b[38;5;124;03m    retcode = call([\"ls\", \"-l\"])\u001b[39;00m\n\u001b[1;32m    388\u001b[0m \u001b[38;5;124;03m    \"\"\"\u001b[39;00m\n\u001b[0;32m--> 389\u001b[0m     \u001b[38;5;28;01mwith\u001b[39;00m \u001b[43mPopen\u001b[49m\u001b[43m(\u001b[49m\u001b[38;5;241;43m*\u001b[39;49m\u001b[43mpopenargs\u001b[49m\u001b[43m,\u001b[49m\u001b[43m \u001b[49m\u001b[38;5;241;43m*\u001b[39;49m\u001b[38;5;241;43m*\u001b[39;49m\u001b[43mkwargs\u001b[49m\u001b[43m)\u001b[49m \u001b[38;5;28;01mas\u001b[39;00m p:\n\u001b[1;32m    390\u001b[0m         \u001b[38;5;28;01mtry\u001b[39;00m:\n\u001b[1;32m    391\u001b[0m             \u001b[38;5;28;01mreturn\u001b[39;00m p\u001b[38;5;241m.\u001b[39mwait(timeout\u001b[38;5;241m=\u001b[39mtimeout)\n",
      "File \u001b[0;32m~/micromamba/envs/python_libs/lib/python3.12/subprocess.py:835\u001b[0m, in \u001b[0;36mPopen.__init__\u001b[0;34m(self, args, bufsize, executable, stdin, stdout, stderr, preexec_fn, close_fds, shell, cwd, env, universal_newlines, startupinfo, creationflags, restore_signals, start_new_session, pass_fds, user, group, extra_groups, encoding, errors, text, umask, pipesize, process_group)\u001b[0m\n\u001b[1;32m    833\u001b[0m     bufsize \u001b[38;5;241m=\u001b[39m \u001b[38;5;241m-\u001b[39m\u001b[38;5;241m1\u001b[39m  \u001b[38;5;66;03m# Restore default\u001b[39;00m\n\u001b[1;32m    834\u001b[0m \u001b[38;5;28;01mif\u001b[39;00m \u001b[38;5;129;01mnot\u001b[39;00m \u001b[38;5;28misinstance\u001b[39m(bufsize, \u001b[38;5;28mint\u001b[39m):\n\u001b[0;32m--> 835\u001b[0m     \u001b[38;5;28;01mraise\u001b[39;00m \u001b[38;5;167;01mTypeError\u001b[39;00m(\u001b[38;5;124m\"\u001b[39m\u001b[38;5;124mbufsize must be an integer\u001b[39m\u001b[38;5;124m\"\u001b[39m)\n\u001b[1;32m    837\u001b[0m \u001b[38;5;28;01mif\u001b[39;00m pipesize \u001b[38;5;129;01mis\u001b[39;00m \u001b[38;5;28;01mNone\u001b[39;00m:\n\u001b[1;32m    838\u001b[0m     pipesize \u001b[38;5;241m=\u001b[39m \u001b[38;5;241m-\u001b[39m\u001b[38;5;241m1\u001b[39m  \u001b[38;5;66;03m# Restore default\u001b[39;00m\n",
      "\u001b[0;31mTypeError\u001b[0m: bufsize must be an integer"
     ]
    }
   ],
   "source": [
    "for file_name in file_names:\n",
    "    print(dir_oi+\"/outs/filtered_feature_bc_matrix/barcodes.tsv.gz\")\n",
    "    \n",
    "    print(\"processing \"+file_name)\n",
    "    dir_oi = starting_dir+\"/\"+file_name\n",
    "    \n",
    "    #subprocesses.call(\"gunzip\", \"-k\", dir_oi+\"/outs/filtered_feature_bc_matrix/features.tsv\")\n",
    "    cell_bc = pd.read_csv(dir_oi+\"/outs/filtered_feature_bc_matrix/barcodes.tsv.gz\",header=None)\n",
    "    counts_matrix = scipy.io.mmread(dir_oi+\"/outs/filtered_feature_bc_matrix/matrix.mtx.gz\")\n",
    "    genes = np.array(scr.load_genes(dir_oi+\"/outs/filtered_feature_bc_matrix/features.tsv\", column=1))\n",
    "\n",
    "    print(len(genes))\n",
    "    print(counts_matrix.shape)\n",
    "\n",
    "    scrub_z = scr.Scrublet(np.transpose(counts_matrix))\n",
    "    doublet_scores_z, predicted_doublets_z = scrub_z.scrub_doublets(n_prin_comps=30, \n",
    "                                                                mean_center=True, \n",
    "                                                                normalize_variance=True)\n",
    "    df=pd.DataFrame()\n",
    "    df['cell_bc']=cell_bc[0]\n",
    "    print(len(cell_bc[0]))\n",
    "    print(len(doublet_scores_z))\n",
    "    df['doublet_scores_z'] = doublet_scores_z\n",
    "    \n",
    "    df.to_csv(dir_oi+'/scrublet_score_scRNA'+file_name+'.txt',sep='\\t',index=False)                                                               \n",
    "                                                                \n",
    "    #print(le))\n",
    "                                                                \n",
    "    fig, axs = scrub_z.plot_histogram()\n",
    "    print(fig)\n",
    "    fig.savefig(dir_oi+\"/doublet_score_histograms_scrublet_\" + file_name + \".pdf\")"
   ]
  }
 ],
 "metadata": {
  "kernelspec": {
   "display_name": "Calysto Bash",
   "language": "bash",
   "name": "calysto_bash"
  },
  "language_info": {
   "file_extension": ".sh",
   "help_links": [
    {
     "text": "MetaKernel Magics",
     "url": "https://metakernel.readthedocs.io/en/latest/source/README.html"
    }
   ],
   "mimetype": "text/x-sh",
   "name": "bash",
   "version": "0.2.2"
  }
 },
 "nbformat": 4,
 "nbformat_minor": 2
}
